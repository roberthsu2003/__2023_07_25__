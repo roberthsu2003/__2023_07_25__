{
 "cells": [
  {
   "cell_type": "code",
   "execution_count": 3,
   "metadata": {},
   "outputs": [
    {
     "data": {
      "text/plain": [
       "[3, 7, 11, 15, 19]"
      ]
     },
     "execution_count": 3,
     "metadata": {},
     "output_type": "execute_result"
    }
   ],
   "source": [
    "#建立list\n",
    "a = [1, 3, 5, 7, 9]\n",
    "a * 2\n",
    "\n",
    "b = [2, 4, 6, 8 ,10]\n",
    "a + b\n",
    "\n",
    "result = []\n",
    "for i in range(5):\n",
    "    result.append(a[i] + b[i])\n",
    "\n",
    "result"
   ]
  },
  {
   "cell_type": "code",
   "execution_count": 8,
   "metadata": {},
   "outputs": [
    {
     "data": {
      "text/plain": [
       "array([ 3,  7, 11, 15, 19])"
      ]
     },
     "execution_count": 8,
     "metadata": {},
     "output_type": "execute_result"
    }
   ],
   "source": [
    "import numpy as np\n",
    "\n",
    "#透過list建立ndArray\n",
    "\n",
    "a_array = np.array([1, 3, 5, 7, 9])\n",
    "a_array * 2\n",
    "\n",
    "b_array = np.array([2, 4, 6, 8 ,10])\n",
    "\n",
    "a_array + b_array"
   ]
  },
  {
   "cell_type": "code",
   "execution_count": 10,
   "metadata": {},
   "outputs": [
    {
     "data": {
      "text/plain": [
       "[95, 57, 97, 60, 51]"
      ]
     },
     "execution_count": 10,
     "metadata": {},
     "output_type": "execute_result"
    }
   ],
   "source": [
    "#使用python建立5個亂數元素的list\n",
    "import random\n",
    "\n",
    "#list comprehension\n",
    "[random.randint(50,100) for _ in range(5)]\n"
   ]
  },
  {
   "cell_type": "code",
   "execution_count": 11,
   "metadata": {},
   "outputs": [
    {
     "data": {
      "text/plain": [
       "array([93, 99, 50, 65, 76])"
      ]
     },
     "execution_count": 11,
     "metadata": {},
     "output_type": "execute_result"
    }
   ],
   "source": [
    "#使用numpy random 建立亂數\n",
    "import numpy as np\n",
    "np.random.randint(50,high=100,size=5)"
   ]
  },
  {
   "cell_type": "code",
   "execution_count": 12,
   "metadata": {},
   "outputs": [
    {
     "data": {
      "text/plain": [
       "array([[80, 96, 88, 84, 83],\n",
       "       [99, 66, 72, 68, 84],\n",
       "       [69, 92, 60, 51, 91],\n",
       "       [80, 95, 50, 55, 53],\n",
       "       [92, 85, 88, 79, 65],\n",
       "       [97, 80, 85, 90, 82],\n",
       "       [91, 71, 96, 52, 80],\n",
       "       [88, 60, 99, 96, 61],\n",
       "       [88, 61, 78, 69, 97],\n",
       "       [80, 62, 90, 61, 68],\n",
       "       [97, 73, 81, 51, 64],\n",
       "       [96, 88, 52, 54, 52],\n",
       "       [68, 85, 89, 59, 74],\n",
       "       [53, 65, 98, 52, 84],\n",
       "       [54, 75, 79, 99, 51],\n",
       "       [98, 85, 67, 91, 80],\n",
       "       [92, 72, 96, 84, 74],\n",
       "       [82, 64, 95, 75, 67],\n",
       "       [78, 86, 96, 64, 81],\n",
       "       [70, 66, 59, 92, 87],\n",
       "       [61, 80, 89, 56, 92],\n",
       "       [96, 87, 86, 59, 73],\n",
       "       [96, 89, 54, 78, 72],\n",
       "       [92, 60, 63, 61, 55],\n",
       "       [58, 72, 78, 90, 64],\n",
       "       [70, 97, 80, 56, 79],\n",
       "       [59, 52, 54, 57, 92],\n",
       "       [92, 95, 51, 73, 85],\n",
       "       [69, 84, 94, 72, 98],\n",
       "       [75, 77, 64, 99, 88],\n",
       "       [90, 53, 76, 92, 79],\n",
       "       [80, 74, 68, 68, 68],\n",
       "       [66, 90, 72, 81, 63],\n",
       "       [79, 81, 91, 92, 95],\n",
       "       [52, 98, 68, 90, 67],\n",
       "       [83, 94, 88, 63, 58],\n",
       "       [51, 60, 91, 53, 71],\n",
       "       [98, 92, 96, 69, 73],\n",
       "       [82, 73, 88, 66, 64],\n",
       "       [59, 93, 77, 97, 65],\n",
       "       [74, 81, 51, 86, 51],\n",
       "       [93, 99, 91, 78, 74],\n",
       "       [60, 87, 69, 59, 80],\n",
       "       [96, 65, 93, 99, 54],\n",
       "       [66, 69, 63, 53, 72],\n",
       "       [51, 91, 56, 69, 66],\n",
       "       [82, 74, 88, 61, 50],\n",
       "       [77, 83, 87, 88, 96],\n",
       "       [89, 67, 83, 85, 95],\n",
       "       [95, 56, 87, 94, 58]])"
      ]
     },
     "execution_count": 12,
     "metadata": {},
     "output_type": "execute_result"
    }
   ],
   "source": [
    "np.random.randint(50,high=100,size=(50, 5))"
   ]
  }
 ],
 "metadata": {
  "kernelspec": {
   "display_name": "Python 3",
   "language": "python",
   "name": "python3"
  },
  "language_info": {
   "codemirror_mode": {
    "name": "ipython",
    "version": 3
   },
   "file_extension": ".py",
   "mimetype": "text/x-python",
   "name": "python",
   "nbconvert_exporter": "python",
   "pygments_lexer": "ipython3",
   "version": "3.10.12"
  },
  "orig_nbformat": 4
 },
 "nbformat": 4,
 "nbformat_minor": 2
}
