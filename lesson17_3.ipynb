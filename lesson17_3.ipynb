{
 "cells": [
  {
   "cell_type": "code",
   "execution_count": 12,
   "metadata": {},
   "outputs": [
    {
     "data": {
      "text/plain": [
       "0     許芳如\n",
       "1     陳凱翔\n",
       "2     詹忠光\n",
       "3     陳樂紫\n",
       "4     潘英迪\n",
       "5     李美洋\n",
       "6     陳怡容\n",
       "7     錢欣潔\n",
       "8     林佳光\n",
       "9      戚亨\n",
       "10    謝水儒\n",
       "11    林志喜\n",
       "12    林清英\n",
       "13    蔡世馨\n",
       "14    吳志宣\n",
       "15    盧冠發\n",
       "16    郭致恬\n",
       "17    王梅劭\n",
       "18    陳建香\n",
       "19    方筠紹\n",
       "20    劉佳佩\n",
       "21    周怡啟\n",
       "22    張嘉韋\n",
       "23    黃佩玲\n",
       "24    翁羽威\n",
       "25    李雅怡\n",
       "26    余丞苓\n",
       "27    錢欣潔\n",
       "28    彭虹屏\n",
       "29    郭舜昇\n",
       "30    劉萬季\n",
       "31    簡美君\n",
       "32    吳麗卿\n",
       "33    王志謙\n",
       "34    高俊男\n",
       "35    楊又源\n",
       "36    周家銘\n",
       "37    白美珍\n",
       "38    王志謙\n",
       "39    王柏聖\n",
       "40    李立偉\n",
       "41    柯韋成\n",
       "42    王士銘\n",
       "43    張明惟\n",
       "44    賴昌韻\n",
       "45    賴昌韻\n",
       "46    王孝純\n",
       "47    謝貞妃\n",
       "48    陳志偉\n",
       "49    林冠蕙\n",
       "Name: 姓名, dtype: object"
      ]
     },
     "execution_count": 12,
     "metadata": {},
     "output_type": "execute_result"
    }
   ],
   "source": [
    "import pandas as pd\n",
    "df = pd.read_csv('學生成績.csv')\n",
    "#dataFrame的subscript\n",
    "name_s = df[\"姓名\"]\n"
   ]
  },
  {
   "cell_type": "code",
   "execution_count": 18,
   "metadata": {},
   "outputs": [
    {
     "data": {
      "text/plain": [
       "0     許芳如\n",
       "1     陳凱翔\n",
       "2     詹忠光\n",
       "3     陳樂紫\n",
       "4     潘英迪\n",
       "5     李美洋\n",
       "6     陳怡容\n",
       "7     錢欣潔\n",
       "8     林佳光\n",
       "9      戚亨\n",
       "10    謝水儒\n",
       "11    林志喜\n",
       "12    林清英\n",
       "13    蔡世馨\n",
       "14    吳志宣\n",
       "15    盧冠發\n",
       "16    郭致恬\n",
       "17    王梅劭\n",
       "18    陳建香\n",
       "19    方筠紹\n",
       "20    劉佳佩\n",
       "21    周怡啟\n",
       "22    張嘉韋\n",
       "23    黃佩玲\n",
       "24    翁羽威\n",
       "25    李雅怡\n",
       "26    余丞苓\n",
       "27    錢欣潔\n",
       "28    彭虹屏\n",
       "29    郭舜昇\n",
       "30    劉萬季\n",
       "31    簡美君\n",
       "32    吳麗卿\n",
       "33    王志謙\n",
       "34    高俊男\n",
       "35    楊又源\n",
       "36    周家銘\n",
       "37    白美珍\n",
       "38    王志謙\n",
       "39    王柏聖\n",
       "40    李立偉\n",
       "41    柯韋成\n",
       "42    王士銘\n",
       "43    張明惟\n",
       "44    賴昌韻\n",
       "45    賴昌韻\n",
       "46    王孝純\n",
       "47    謝貞妃\n",
       "48    陳志偉\n",
       "49    林冠蕙\n",
       "Name: 姓名, dtype: object"
      ]
     },
     "metadata": {},
     "output_type": "display_data"
    },
    {
     "data": {
      "text/plain": [
       "'許芳如'"
      ]
     },
     "metadata": {},
     "output_type": "display_data"
    },
    {
     "name": "stdout",
     "output_type": "stream",
     "text": [
      "===========\n"
     ]
    },
    {
     "data": {
      "text/plain": [
       "0    許芳如\n",
       "1    陳凱翔\n",
       "2    詹忠光\n",
       "Name: 姓名, dtype: object"
      ]
     },
     "metadata": {},
     "output_type": "display_data"
    },
    {
     "name": "stdout",
     "output_type": "stream",
     "text": [
      "===========\n"
     ]
    },
    {
     "data": {
      "text/plain": [
       "47    謝貞妃\n",
       "48    陳志偉\n",
       "49    林冠蕙\n",
       "Name: 姓名, dtype: object"
      ]
     },
     "metadata": {},
     "output_type": "display_data"
    },
    {
     "name": "stdout",
     "output_type": "stream",
     "text": [
      "===========\n"
     ]
    },
    {
     "data": {
      "text/plain": [
       "0    許芳如\n",
       "5    李美洋\n",
       "8    林佳光\n",
       "Name: 姓名, dtype: object"
      ]
     },
     "metadata": {},
     "output_type": "display_data"
    }
   ],
   "source": [
    "#Series的subscript\n",
    "display(name_s)\n",
    "display(name_s[0])\n",
    "print(\"===========\")\n",
    "display(name_s[:3])\n",
    "print(\"===========\")\n",
    "display(name_s[-3:])\n",
    "print(\"===========\")\n",
    "display(name_s[[0, 5, 8]])"
   ]
  }
 ],
 "metadata": {
  "kernelspec": {
   "display_name": "Python 3",
   "language": "python",
   "name": "python3"
  },
  "language_info": {
   "codemirror_mode": {
    "name": "ipython",
    "version": 3
   },
   "file_extension": ".py",
   "mimetype": "text/x-python",
   "name": "python",
   "nbconvert_exporter": "python",
   "pygments_lexer": "ipython3",
   "version": "3.10.12"
  },
  "orig_nbformat": 4
 },
 "nbformat": 4,
 "nbformat_minor": 2
}
