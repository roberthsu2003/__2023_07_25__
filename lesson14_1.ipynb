{
 "cells": [
  {
   "cell_type": "code",
   "execution_count": 1,
   "metadata": {},
   "outputs": [
    {
     "name": "stdout",
     "output_type": "stream",
     "text": [
      "下載成功\n"
     ]
    }
   ],
   "source": [
    "import requests\n",
    "\n",
    "url = 'https://opendata.cwb.gov.tw/fileapi/v1/opendataapi/F-C0032-001?Authorization=rdec-key-123-45678-011121314&format=JSON'\n",
    "r = requests.get(url)\n",
    "if r.status_code == 200:\n",
    "    print(\"下載成功\")"
   ]
  },
  {
   "cell_type": "code",
   "execution_count": null,
   "metadata": {},
   "outputs": [],
   "source": [
    "print(r.text)"
   ]
  },
  {
   "cell_type": "code",
   "execution_count": 11,
   "metadata": {},
   "outputs": [
    {
     "name": "stdout",
     "output_type": "stream",
     "text": [
      "臺北市\n",
      "新北市\n",
      "桃園市\n",
      "臺中市\n",
      "臺南市\n",
      "高雄市\n",
      "基隆市\n",
      "新竹縣\n",
      "新竹市\n",
      "苗栗縣\n",
      "彰化縣\n",
      "南投縣\n",
      "雲林縣\n",
      "嘉義縣\n",
      "嘉義市\n",
      "屏東縣\n",
      "宜蘭縣\n",
      "花蓮縣\n",
      "臺東縣\n",
      "澎湖縣\n",
      "金門縣\n",
      "連江縣\n"
     ]
    }
   ],
   "source": [
    "all_json = r.json()\n",
    "locations = all_json['cwbopendata']['dataset']['location']\n",
    "for item in locations:\n",
    "    print(item['locationName'])"
   ]
  }
 ],
 "metadata": {
  "kernelspec": {
   "display_name": "Python 3",
   "language": "python",
   "name": "python3"
  },
  "language_info": {
   "codemirror_mode": {
    "name": "ipython",
    "version": 3
   },
   "file_extension": ".py",
   "mimetype": "text/x-python",
   "name": "python",
   "nbconvert_exporter": "python",
   "pygments_lexer": "ipython3",
   "version": "3.10.12"
  },
  "orig_nbformat": 4
 },
 "nbformat": 4,
 "nbformat_minor": 2
}
