{
 "cells": [
  {
   "cell_type": "code",
   "execution_count": 1,
   "metadata": {},
   "outputs": [
    {
     "name": "stdout",
     "output_type": "stream",
     "text": [
      "下載成功\n"
     ]
    }
   ],
   "source": [
    "import requests\n",
    "\n",
    "url = 'https://opendata.cwb.gov.tw/fileapi/v1/opendataapi/F-C0032-001?Authorization=rdec-key-123-45678-011121314&format=JSON'\n",
    "r = requests.get(url)\n",
    "if r.status_code == 200:\n",
    "    print(\"下載成功\")"
   ]
  },
  {
   "cell_type": "code",
   "execution_count": null,
   "metadata": {},
   "outputs": [],
   "source": [
    "print(r.text)"
   ]
  },
  {
   "cell_type": "code",
   "execution_count": 15,
   "metadata": {},
   "outputs": [
    {
     "data": {
      "text/plain": [
       "[{'城市': '臺北市', '啟始時間': 0, '結束時間': 0, '最高溫度': 0, '最低溫度': 0, '感覺': 0},\n",
       " {'城市': '新北市', '啟始時間': 0, '結束時間': 0, '最高溫度': 0, '最低溫度': 0, '感覺': 0},\n",
       " {'城市': '桃園市', '啟始時間': 0, '結束時間': 0, '最高溫度': 0, '最低溫度': 0, '感覺': 0},\n",
       " {'城市': '臺中市', '啟始時間': 0, '結束時間': 0, '最高溫度': 0, '最低溫度': 0, '感覺': 0},\n",
       " {'城市': '臺南市', '啟始時間': 0, '結束時間': 0, '最高溫度': 0, '最低溫度': 0, '感覺': 0},\n",
       " {'城市': '高雄市', '啟始時間': 0, '結束時間': 0, '最高溫度': 0, '最低溫度': 0, '感覺': 0},\n",
       " {'城市': '基隆市', '啟始時間': 0, '結束時間': 0, '最高溫度': 0, '最低溫度': 0, '感覺': 0},\n",
       " {'城市': '新竹縣', '啟始時間': 0, '結束時間': 0, '最高溫度': 0, '最低溫度': 0, '感覺': 0},\n",
       " {'城市': '新竹市', '啟始時間': 0, '結束時間': 0, '最高溫度': 0, '最低溫度': 0, '感覺': 0},\n",
       " {'城市': '苗栗縣', '啟始時間': 0, '結束時間': 0, '最高溫度': 0, '最低溫度': 0, '感覺': 0},\n",
       " {'城市': '彰化縣', '啟始時間': 0, '結束時間': 0, '最高溫度': 0, '最低溫度': 0, '感覺': 0},\n",
       " {'城市': '南投縣', '啟始時間': 0, '結束時間': 0, '最高溫度': 0, '最低溫度': 0, '感覺': 0},\n",
       " {'城市': '雲林縣', '啟始時間': 0, '結束時間': 0, '最高溫度': 0, '最低溫度': 0, '感覺': 0},\n",
       " {'城市': '嘉義縣', '啟始時間': 0, '結束時間': 0, '最高溫度': 0, '最低溫度': 0, '感覺': 0},\n",
       " {'城市': '嘉義市', '啟始時間': 0, '結束時間': 0, '最高溫度': 0, '最低溫度': 0, '感覺': 0},\n",
       " {'城市': '屏東縣', '啟始時間': 0, '結束時間': 0, '最高溫度': 0, '最低溫度': 0, '感覺': 0},\n",
       " {'城市': '宜蘭縣', '啟始時間': 0, '結束時間': 0, '最高溫度': 0, '最低溫度': 0, '感覺': 0},\n",
       " {'城市': '花蓮縣', '啟始時間': 0, '結束時間': 0, '最高溫度': 0, '最低溫度': 0, '感覺': 0},\n",
       " {'城市': '臺東縣', '啟始時間': 0, '結束時間': 0, '最高溫度': 0, '最低溫度': 0, '感覺': 0},\n",
       " {'城市': '澎湖縣', '啟始時間': 0, '結束時間': 0, '最高溫度': 0, '最低溫度': 0, '感覺': 0},\n",
       " {'城市': '金門縣', '啟始時間': 0, '結束時間': 0, '最高溫度': 0, '最低溫度': 0, '感覺': 0},\n",
       " {'城市': '連江縣', '啟始時間': 0, '結束時間': 0, '最高溫度': 0, '最低溫度': 0, '感覺': 0}]"
      ]
     },
     "execution_count": 15,
     "metadata": {},
     "output_type": "execute_result"
    }
   ],
   "source": [
    "all_json = r.json()\n",
    "locations = all_json['cwbopendata']['dataset']['location']\n",
    "weather_list = []\n",
    "for item in locations:\n",
    "    city_item = {}\n",
    "    city_item['城市'] = item['locationName']\n",
    "    city_item['啟始時間'] = 0\n",
    "    city_item['結束時間'] = 0\n",
    "    city_item['最高溫度'] = 0\n",
    "    city_item['最低溫度'] = 0\n",
    "    city_item['感覺'] = 0\n",
    "    weather_list.append(city_item)\n",
    "weather_list"
   ]
  }
 ],
 "metadata": {
  "kernelspec": {
   "display_name": "Python 3",
   "language": "python",
   "name": "python3"
  },
  "language_info": {
   "codemirror_mode": {
    "name": "ipython",
    "version": 3
   },
   "file_extension": ".py",
   "mimetype": "text/x-python",
   "name": "python",
   "nbconvert_exporter": "python",
   "pygments_lexer": "ipython3",
   "version": "3.10.12"
  },
  "orig_nbformat": 4
 },
 "nbformat": 4,
 "nbformat_minor": 2
}
