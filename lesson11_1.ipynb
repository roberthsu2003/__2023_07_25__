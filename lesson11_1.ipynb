{
 "cells": [
  {
   "cell_type": "code",
   "execution_count": 15,
   "metadata": {},
   "outputs": [
    {
     "data": {
      "text/plain": [
       "[['洪阿惠', 71, 88, 72, 99, 82],\n",
       " ['陳彥治', 61, 65, 88, 78, 60],\n",
       " ['游詩亞', 73, 62, 64, 77, 68],\n",
       " ['陳俊憲', 96, 99, 61, 95, 51],\n",
       " ['王雅琴', 100, 66, 67, 97, 83],\n",
       " ['鄭淑珍', 54, 64, 72, 53, 56],\n",
       " ['吳昕婷', 64, 53, 97, 51, 68],\n",
       " ['鄭奇翰', 85, 64, 82, 63, 100],\n",
       " ['吳孟穎', 94, 91, 75, 70, 90],\n",
       " ['王泓泰', 73, 84, 89, 82, 82],\n",
       " ['劉林中', 89, 68, 93, 66, 77],\n",
       " ['林珍旺', 90, 54, 65, 56, 63],\n",
       " ['陳信念', 50, 76, 63, 87, 89],\n",
       " ['孫火清', 60, 66, 72, 72, 95],\n",
       " ['劉萬季', 67, 84, 84, 90, 92],\n",
       " ['黃雅慧', 62, 78, 78, 82, 76],\n",
       " ['鄭奇翰', 66, 86, 57, 73, 93],\n",
       " ['盧必妍', 51, 72, 99, 53, 53],\n",
       " ['賴又琦', 54, 93, 53, 94, 57],\n",
       " ['黃健發', 70, 78, 90, 80, 76],\n",
       " ['蔡偉成', 56, 94, 52, 59, 63],\n",
       " ['王雅慧', 55, 73, 64, 81, 52],\n",
       " ['黎惠雯', 61, 53, 88, 54, 62],\n",
       " ['陳建豪', 52, 72, 91, 56, 63],\n",
       " ['黃嘉琪', 52, 72, 89, 74, 57],\n",
       " ['盧文啟', 64, 99, 95, 92, 72],\n",
       " ['林建宏', 93, 56, 96, 50, 96],\n",
       " ['趙家豪', 72, 94, 82, 96, 100],\n",
       " ['林志成', 84, 92, 93, 96, 90],\n",
       " ['崔孝憲', 81, 71, 86, 84, 65],\n",
       " ['柯韋成', 58, 74, 55, 63, 81],\n",
       " ['黃翔杰', 76, 82, 86, 57, 71],\n",
       " ['藍姿婷', 67, 64, 73, 84, 80],\n",
       " ['魏秋萍', 91, 96, 53, 61, 91],\n",
       " ['張天亨', 60, 56, 67, 86, 65],\n",
       " ['張凱妮', 92, 61, 87, 68, 92],\n",
       " ['蔡欣汝', 77, 87, 96, 89, 66],\n",
       " ['蔡孟泉', 52, 67, 62, 69, 88],\n",
       " ['王士銘', 92, 61, 98, 84, 87],\n",
       " ['吳俐芷', 66, 66, 62, 51, 50],\n",
       " ['王坤安', 65, 80, 83, 60, 73],\n",
       " ['黃詩妃', 52, 84, 89, 70, 88],\n",
       " ['李雅怡', 79, 56, 59, 88, 78],\n",
       " ['黃彥孝', 78, 84, 86, 52, 65],\n",
       " ['陳姵彬', 62, 91, 92, 82, 86],\n",
       " ['胡淑貞', 60, 53, 81, 77, 64],\n",
       " ['陳慧君', 50, 60, 67, 93, 64],\n",
       " ['蔡嘉音', 53, 91, 56, 63, 85],\n",
       " ['彭茹靖', 87, 68, 73, 57, 51],\n",
       " ['蔡孟泉', 72, 92, 85, 76, 51]]"
      ]
     },
     "execution_count": 15,
     "metadata": {},
     "output_type": "execute_result"
    }
   ],
   "source": [
    "import random\n",
    "def get_score() -> list:\n",
    "    score = []\n",
    "    for i in range(5):\n",
    "        score.append(random.randint(50, 100))\n",
    "    return score\n",
    "\n",
    "nums_int = int(input(\"請輸入學生數:\"))\n",
    "#取得nums_int個姓名\n",
    "with open('names.txt',encoding='utf-8',newline='') as file:\n",
    "    names_str = file.read()\n",
    "    all_names_list = names_str.split(sep=\"\\n\")\n",
    "    names_list = random.choices(all_names_list,k=nums_int) #取出一定數量的姓名\n",
    "\n",
    "\n",
    "students = []\n",
    "for i in range(nums_int):\n",
    "    scores = get_score()\n",
    "    new_list = [names_list[i]] + scores\n",
    "    students.append(new_list)\n",
    "students"
   ]
  },
  {
   "cell_type": "code",
   "execution_count": 10,
   "metadata": {},
   "outputs": [
    {
     "data": {
      "text/plain": [
       "['楊韋廷', 88, 77, 63, 82, 72]"
      ]
     },
     "execution_count": 10,
     "metadata": {},
     "output_type": "execute_result"
    }
   ],
   "source": [
    "['楊韋廷'] + [88, 77, 63, 82, 72]"
   ]
  }
 ],
 "metadata": {
  "kernelspec": {
   "display_name": "Python 3",
   "language": "python",
   "name": "python3"
  },
  "language_info": {
   "codemirror_mode": {
    "name": "ipython",
    "version": 3
   },
   "file_extension": ".py",
   "mimetype": "text/x-python",
   "name": "python",
   "nbconvert_exporter": "python",
   "pygments_lexer": "ipython3",
   "version": "3.10.12"
  },
  "orig_nbformat": 4
 },
 "nbformat": 4,
 "nbformat_minor": 2
}
