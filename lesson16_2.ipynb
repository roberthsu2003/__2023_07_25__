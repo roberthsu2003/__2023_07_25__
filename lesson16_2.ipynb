{
 "cells": [
  {
   "cell_type": "code",
   "execution_count": 7,
   "metadata": {},
   "outputs": [
    {
     "data": {
      "text/plain": [
       "統編\n",
       "99611344    False\n",
       "99604192    False\n",
       "99613990    False\n",
       "99600477    False\n",
       "99606467    False\n",
       "            ...  \n",
       "65007117    False\n",
       "65007172    False\n",
       "65007211    False\n",
       "65007246    False\n",
       "65007247    False\n",
       "Name: 新北市食品工廠統編, Length: 1232, dtype: bool"
      ]
     },
     "execution_count": 7,
     "metadata": {},
     "output_type": "execute_result"
    }
   ],
   "source": [
    "import csv\n",
    "import pandas as pd\n",
    "\n",
    "with open('新北市食品工廠清冊.csv',mode='r',encoding='utf-8',newline='') as file:\n",
    "    csv_reader = csv.reader(file)\n",
    "    next(csv_reader)\n",
    "    #for row in csv_reader:\n",
    "    #    print(row[2],row[1])\n",
    "    sdata = {row[2]:row[1] for row in csv_reader} \n",
    "\n",
    "stores = pd.Series(sdata)\n",
    "stores.name=\"新北市食品工廠統編\"\n",
    "stores.index.name=\"統編\"\n",
    "stores\n",
    "        "
   ]
  }
 ],
 "metadata": {
  "kernelspec": {
   "display_name": "Python 3",
   "language": "python",
   "name": "python3"
  },
  "language_info": {
   "codemirror_mode": {
    "name": "ipython",
    "version": 3
   },
   "file_extension": ".py",
   "mimetype": "text/x-python",
   "name": "python",
   "nbconvert_exporter": "python",
   "pygments_lexer": "ipython3",
   "version": "3.10.12"
  },
  "orig_nbformat": 4
 },
 "nbformat": 4,
 "nbformat_minor": 2
}
